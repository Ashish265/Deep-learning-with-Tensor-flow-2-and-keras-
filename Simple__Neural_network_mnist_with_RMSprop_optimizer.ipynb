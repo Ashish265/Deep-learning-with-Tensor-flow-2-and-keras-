{
  "nbformat": 4,
  "nbformat_minor": 0,
  "metadata": {
    "colab": {
      "name": "Simple _Neural_network_mnist_with_RMSprop_optimizer.ipynb",
      "provenance": [],
      "authorship_tag": "ABX9TyNVyYxdDxaREt91HWA3+SSZ",
      "include_colab_link": true
    },
    "kernelspec": {
      "name": "python3",
      "display_name": "Python 3"
    }
  },
  "cells": [
    {
      "cell_type": "markdown",
      "metadata": {
        "id": "view-in-github",
        "colab_type": "text"
      },
      "source": [
        "<a href=\"https://colab.research.google.com/github/Ashish265/Deep-learning-with-Tensor-flow-2-and-keras-/blob/master/Simple__Neural_network_mnist_with_RMSprop_optimizer.ipynb\" target=\"_parent\"><img src=\"https://colab.research.google.com/assets/colab-badge.svg\" alt=\"Open In Colab\"/></a>"
      ]
    },
    {
      "cell_type": "code",
      "metadata": {
        "id": "c3A5z1S_p1tr",
        "colab_type": "code",
        "colab": {}
      },
      "source": [
        "import tensorflow as tf\n",
        "import numpy as np\n",
        "from tensorflow import keras\n"
      ],
      "execution_count": 0,
      "outputs": []
    },
    {
      "cell_type": "code",
      "metadata": {
        "id": "w1MtCo6dqHbl",
        "colab_type": "code",
        "colab": {}
      },
      "source": [
        "# Network and training parameters\n",
        "\n",
        "EPOCHS = 15\n",
        "BATCH_SIZE = 128\n",
        "VERBOSE =1\n",
        "NB_CLASSES = 10\n",
        "N_HIDDEN = 128\n",
        "VALIDATION_SPLIT = 0.2\n",
        "DROPOUT = 0.3"
      ],
      "execution_count": 0,
      "outputs": []
    },
    {
      "cell_type": "code",
      "metadata": {
        "id": "3ifnucuXr-oX",
        "colab_type": "code",
        "colab": {}
      },
      "source": [
        "# lOADING THE DATA  \n",
        "\n",
        "mnist = keras.datasets.mnist\n",
        "\n",
        "(X_train,y_train),(X_test,y_test) = mnist.load_data()"
      ],
      "execution_count": 0,
      "outputs": []
    },
    {
      "cell_type": "code",
      "metadata": {
        "id": "Ro3a8DvCsWS3",
        "colab_type": "code",
        "colab": {}
      },
      "source": [
        "# X_train is 60000 rows of 28x28 values; we --> reshape it to\n",
        "# 60000 x 784"
      ],
      "execution_count": 0,
      "outputs": []
    },
    {
      "cell_type": "code",
      "metadata": {
        "id": "qhwt2WrBsnDH",
        "colab_type": "code",
        "colab": {}
      },
      "source": [
        "RESHAPED = 784\n",
        "\n",
        "X_train = X_train.reshape(60000,RESHAPED)\n",
        "X_test = X_test.reshape(10000,RESHAPED)\n",
        "\n",
        "X_train = X_train.astype('float32')\n",
        "X_test = X_test.astype('float32')\n",
        "\n"
      ],
      "execution_count": 0,
      "outputs": []
    },
    {
      "cell_type": "code",
      "metadata": {
        "id": "d6ihiJcItE2f",
        "colab_type": "code",
        "colab": {
          "base_uri": "https://localhost:8080/",
          "height": 52
        },
        "outputId": "65e3f998-89df-4944-ccc9-08b27f257d17"
      },
      "source": [
        "X_train = X_train/255\n",
        "X_test = X_test/255\n",
        "\n",
        "print(X_train.shape[0], 'train samples')\n",
        "print(X_test.shape[0], 'test samples')"
      ],
      "execution_count": 62,
      "outputs": [
        {
          "output_type": "stream",
          "text": [
            "60000 train samples\n",
            "10000 test samples\n"
          ],
          "name": "stdout"
        }
      ]
    },
    {
      "cell_type": "code",
      "metadata": {
        "id": "aM5Qpt3GtbyH",
        "colab_type": "code",
        "colab": {}
      },
      "source": [
        "# One-hot representation of the labels.\n",
        "y_train = tf.keras.utils.to_categorical(y_train, NB_CLASSES)\n",
        "y_test = tf.keras.utils.to_categorical(y_test, NB_CLASSES)"
      ],
      "execution_count": 0,
      "outputs": []
    },
    {
      "cell_type": "code",
      "metadata": {
        "id": "pJjIZUZhteze",
        "colab_type": "code",
        "colab": {}
      },
      "source": [
        "# Build the model\n",
        "\n",
        "model = tf.keras.models.Sequential()"
      ],
      "execution_count": 0,
      "outputs": []
    },
    {
      "cell_type": "code",
      "metadata": {
        "id": "v6_RyOGyt_-W",
        "colab_type": "code",
        "colab": {}
      },
      "source": [
        "model.add(keras.layers.Dense(N_HIDDEN,input_shape= (RESHAPED,),name='dense_layer',activation='relu'))\n",
        "model.add(keras.layers.Dropout(DROPOUT))\n",
        "model.add(keras.layers.Dense(N_HIDDEN,name='dense_layer2',activation='relu'))\n",
        "model.add(keras.layers.Dropout(DROPOUT))\n",
        "model.add(keras.layers.Dense(NB_CLASSES,name='dense_layer3',activation='softmax'))"
      ],
      "execution_count": 0,
      "outputs": []
    },
    {
      "cell_type": "code",
      "metadata": {
        "id": "KmBAM5VBuUxO",
        "colab_type": "code",
        "colab": {}
      },
      "source": [
        "model.compile(optimizer = 'RMSprop',loss='categorical_crossentropy',metrics=['accuracy'])"
      ],
      "execution_count": 0,
      "outputs": []
    },
    {
      "cell_type": "code",
      "metadata": {
        "id": "bqmo9AfLuo5W",
        "colab_type": "code",
        "colab": {
          "base_uri": "https://localhost:8080/",
          "height": 567
        },
        "outputId": "fff1845d-b2f6-433b-ca8b-342a9120aad1"
      },
      "source": [
        "model.fit(X_train,y_train,batch_size=BATCH_SIZE,epochs=EPOCHS,verbose=VERBOSE,validation_split=VALIDATION_SPLIT)"
      ],
      "execution_count": 67,
      "outputs": [
        {
          "output_type": "stream",
          "text": [
            "Epoch 1/15\n",
            "375/375 [==============================] - 2s 5ms/step - loss: 0.4892 - accuracy: 0.8529 - val_loss: 0.1919 - val_accuracy: 0.9448\n",
            "Epoch 2/15\n",
            "375/375 [==============================] - 2s 5ms/step - loss: 0.2323 - accuracy: 0.9318 - val_loss: 0.1303 - val_accuracy: 0.9629\n",
            "Epoch 3/15\n",
            "375/375 [==============================] - 2s 5ms/step - loss: 0.1795 - accuracy: 0.9471 - val_loss: 0.1167 - val_accuracy: 0.9660\n",
            "Epoch 4/15\n",
            "375/375 [==============================] - 2s 5ms/step - loss: 0.1483 - accuracy: 0.9561 - val_loss: 0.1016 - val_accuracy: 0.9697\n",
            "Epoch 5/15\n",
            "375/375 [==============================] - 2s 5ms/step - loss: 0.1360 - accuracy: 0.9598 - val_loss: 0.0988 - val_accuracy: 0.9724\n",
            "Epoch 6/15\n",
            "375/375 [==============================] - 2s 5ms/step - loss: 0.1222 - accuracy: 0.9639 - val_loss: 0.0962 - val_accuracy: 0.9722\n",
            "Epoch 7/15\n",
            "375/375 [==============================] - 2s 5ms/step - loss: 0.1119 - accuracy: 0.9664 - val_loss: 0.0942 - val_accuracy: 0.9747\n",
            "Epoch 8/15\n",
            "375/375 [==============================] - 2s 5ms/step - loss: 0.1047 - accuracy: 0.9689 - val_loss: 0.0965 - val_accuracy: 0.9741\n",
            "Epoch 9/15\n",
            "375/375 [==============================] - 2s 5ms/step - loss: 0.0976 - accuracy: 0.9709 - val_loss: 0.0962 - val_accuracy: 0.9758\n",
            "Epoch 10/15\n",
            "375/375 [==============================] - 2s 5ms/step - loss: 0.0945 - accuracy: 0.9717 - val_loss: 0.0964 - val_accuracy: 0.9777\n",
            "Epoch 11/15\n",
            "375/375 [==============================] - 2s 5ms/step - loss: 0.0844 - accuracy: 0.9742 - val_loss: 0.0944 - val_accuracy: 0.9760\n",
            "Epoch 12/15\n",
            "375/375 [==============================] - 2s 5ms/step - loss: 0.0833 - accuracy: 0.9753 - val_loss: 0.0900 - val_accuracy: 0.9772\n",
            "Epoch 13/15\n",
            "375/375 [==============================] - 2s 5ms/step - loss: 0.0838 - accuracy: 0.9744 - val_loss: 0.0954 - val_accuracy: 0.9769\n",
            "Epoch 14/15\n",
            "375/375 [==============================] - 2s 5ms/step - loss: 0.0802 - accuracy: 0.9760 - val_loss: 0.0931 - val_accuracy: 0.9789\n",
            "Epoch 15/15\n",
            "375/375 [==============================] - 2s 5ms/step - loss: 0.0765 - accuracy: 0.9766 - val_loss: 0.0964 - val_accuracy: 0.9768\n"
          ],
          "name": "stdout"
        },
        {
          "output_type": "execute_result",
          "data": {
            "text/plain": [
              "<tensorflow.python.keras.callbacks.History at 0x7fe46576d2e8>"
            ]
          },
          "metadata": {
            "tags": []
          },
          "execution_count": 67
        }
      ]
    },
    {
      "cell_type": "code",
      "metadata": {
        "id": "czgLe6wlu3_v",
        "colab_type": "code",
        "colab": {
          "base_uri": "https://localhost:8080/",
          "height": 52
        },
        "outputId": "bfed601c-5c56-4567-f48d-8ed6a7be4188"
      },
      "source": [
        "test_loss, test_acc = model.evaluate(X_test, y_test)\n",
        "print('Test accuracy:', test_acc)"
      ],
      "execution_count": 68,
      "outputs": [
        {
          "output_type": "stream",
          "text": [
            "313/313 [==============================] - 0s 1ms/step - loss: 0.0905 - accuracy: 0.9768\n",
            "Test accuracy: 0.9768000245094299\n"
          ],
          "name": "stdout"
        }
      ]
    },
    {
      "cell_type": "code",
      "metadata": {
        "id": "eCHEtPMdvmm1",
        "colab_type": "code",
        "colab": {}
      },
      "source": [
        ""
      ],
      "execution_count": 0,
      "outputs": []
    }
  ]
}