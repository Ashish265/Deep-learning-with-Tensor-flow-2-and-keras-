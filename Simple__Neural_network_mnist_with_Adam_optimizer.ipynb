{
  "nbformat": 4,
  "nbformat_minor": 0,
  "metadata": {
    "colab": {
      "name": "Simple _Neural_network_mnist_with_Adam_optimizer.ipynb",
      "provenance": [],
      "authorship_tag": "ABX9TyMV+ew9HiUSbwp90QCUrkQ6",
      "include_colab_link": true
    },
    "kernelspec": {
      "name": "python3",
      "display_name": "Python 3"
    }
  },
  "cells": [
    {
      "cell_type": "markdown",
      "metadata": {
        "id": "view-in-github",
        "colab_type": "text"
      },
      "source": [
        "<a href=\"https://colab.research.google.com/github/Ashish265/Deep-learning-with-Tensor-flow-2-and-keras-/blob/master/Simple__Neural_network_mnist_with_Adam_optimizer.ipynb\" target=\"_parent\"><img src=\"https://colab.research.google.com/assets/colab-badge.svg\" alt=\"Open In Colab\"/></a>"
      ]
    },
    {
      "cell_type": "code",
      "metadata": {
        "id": "c3A5z1S_p1tr",
        "colab_type": "code",
        "colab": {}
      },
      "source": [
        "import tensorflow as tf\n",
        "import numpy as np\n",
        "from tensorflow import keras\n"
      ],
      "execution_count": 0,
      "outputs": []
    },
    {
      "cell_type": "code",
      "metadata": {
        "id": "w1MtCo6dqHbl",
        "colab_type": "code",
        "colab": {}
      },
      "source": [
        "# Network and training parameters\n",
        "\n",
        "EPOCHS = 50\n",
        "BATCH_SIZE = 128\n",
        "VERBOSE =1\n",
        "NB_CLASSES = 10\n",
        "N_HIDDEN = 128\n",
        "VALIDATION_SPLIT = 0.2\n",
        "DROPOUT = 0.3"
      ],
      "execution_count": 0,
      "outputs": []
    },
    {
      "cell_type": "code",
      "metadata": {
        "id": "3ifnucuXr-oX",
        "colab_type": "code",
        "colab": {}
      },
      "source": [
        "# lOADING THE DATA  \n",
        "\n",
        "mnist = keras.datasets.mnist\n",
        "\n",
        "(X_train,y_train),(X_test,y_test) = mnist.load_data()"
      ],
      "execution_count": 0,
      "outputs": []
    },
    {
      "cell_type": "code",
      "metadata": {
        "id": "Ro3a8DvCsWS3",
        "colab_type": "code",
        "colab": {}
      },
      "source": [
        "# X_train is 60000 rows of 28x28 values; we --> reshape it to\n",
        "# 60000 x 784"
      ],
      "execution_count": 0,
      "outputs": []
    },
    {
      "cell_type": "code",
      "metadata": {
        "id": "qhwt2WrBsnDH",
        "colab_type": "code",
        "colab": {}
      },
      "source": [
        "RESHAPED = 784\n",
        "\n",
        "X_train = X_train.reshape(60000,RESHAPED)\n",
        "X_test = X_test.reshape(10000,RESHAPED)\n",
        "\n",
        "X_train = X_train.astype('float32')\n",
        "X_test = X_test.astype('float32')\n",
        "\n"
      ],
      "execution_count": 0,
      "outputs": []
    },
    {
      "cell_type": "code",
      "metadata": {
        "id": "d6ihiJcItE2f",
        "colab_type": "code",
        "colab": {
          "base_uri": "https://localhost:8080/",
          "height": 52
        },
        "outputId": "e4606240-2c38-4348-fe41-f79f19e5ffd4"
      },
      "source": [
        "X_train = X_train/255\n",
        "X_test = X_test/255\n",
        "\n",
        "print(X_train.shape[0], 'train samples')\n",
        "print(X_test.shape[0], 'test samples')"
      ],
      "execution_count": 6,
      "outputs": [
        {
          "output_type": "stream",
          "text": [
            "60000 train samples\n",
            "10000 test samples\n"
          ],
          "name": "stdout"
        }
      ]
    },
    {
      "cell_type": "code",
      "metadata": {
        "id": "aM5Qpt3GtbyH",
        "colab_type": "code",
        "colab": {}
      },
      "source": [
        "# One-hot representation of the labels.\n",
        "y_train = tf.keras.utils.to_categorical(y_train, NB_CLASSES)\n",
        "y_test = tf.keras.utils.to_categorical(y_test, NB_CLASSES)"
      ],
      "execution_count": 0,
      "outputs": []
    },
    {
      "cell_type": "code",
      "metadata": {
        "id": "pJjIZUZhteze",
        "colab_type": "code",
        "colab": {}
      },
      "source": [
        "# Build the model\n",
        "\n",
        "model = tf.keras.models.Sequential()"
      ],
      "execution_count": 0,
      "outputs": []
    },
    {
      "cell_type": "code",
      "metadata": {
        "id": "v6_RyOGyt_-W",
        "colab_type": "code",
        "colab": {}
      },
      "source": [
        "model.add(keras.layers.Dense(N_HIDDEN,input_shape= (RESHAPED,),name='dense_layer',activation='relu'))\n",
        "model.add(keras.layers.Dropout(DROPOUT))\n",
        "model.add(keras.layers.Dense(N_HIDDEN,name='dense_layer2',activation='relu'))\n",
        "model.add(keras.layers.Dropout(DROPOUT))\n",
        "model.add(keras.layers.Dense(NB_CLASSES,name='dense_layer3',activation='softmax'))"
      ],
      "execution_count": 0,
      "outputs": []
    },
    {
      "cell_type": "code",
      "metadata": {
        "id": "KmBAM5VBuUxO",
        "colab_type": "code",
        "colab": {}
      },
      "source": [
        "model.compile(optimizer = 'Adam',loss='categorical_crossentropy',metrics=['accuracy'])"
      ],
      "execution_count": 0,
      "outputs": []
    },
    {
      "cell_type": "code",
      "metadata": {
        "id": "bqmo9AfLuo5W",
        "colab_type": "code",
        "colab": {
          "base_uri": "https://localhost:8080/",
          "height": 1000
        },
        "outputId": "f65ec793-77e5-4972-9a45-e07e0d8642a3"
      },
      "source": [
        "model.fit(X_train,y_train,batch_size=BATCH_SIZE,epochs=EPOCHS,verbose=VERBOSE,validation_split=VALIDATION_SPLIT)"
      ],
      "execution_count": 11,
      "outputs": [
        {
          "output_type": "stream",
          "text": [
            "Epoch 1/50\n",
            "375/375 [==============================] - 2s 5ms/step - loss: 0.5112 - accuracy: 0.8441 - val_loss: 0.1977 - val_accuracy: 0.9413\n",
            "Epoch 2/50\n",
            "375/375 [==============================] - 2s 4ms/step - loss: 0.2290 - accuracy: 0.9321 - val_loss: 0.1400 - val_accuracy: 0.9583\n",
            "Epoch 3/50\n",
            "375/375 [==============================] - 2s 4ms/step - loss: 0.1764 - accuracy: 0.9463 - val_loss: 0.1183 - val_accuracy: 0.9636\n",
            "Epoch 4/50\n",
            "375/375 [==============================] - 2s 4ms/step - loss: 0.1477 - accuracy: 0.9554 - val_loss: 0.1000 - val_accuracy: 0.9697\n",
            "Epoch 5/50\n",
            "375/375 [==============================] - 2s 4ms/step - loss: 0.1299 - accuracy: 0.9604 - val_loss: 0.0977 - val_accuracy: 0.9703\n",
            "Epoch 6/50\n",
            "375/375 [==============================] - 2s 4ms/step - loss: 0.1156 - accuracy: 0.9644 - val_loss: 0.0924 - val_accuracy: 0.9721\n",
            "Epoch 7/50\n",
            "375/375 [==============================] - 2s 4ms/step - loss: 0.1033 - accuracy: 0.9684 - val_loss: 0.0857 - val_accuracy: 0.9750\n",
            "Epoch 8/50\n",
            "375/375 [==============================] - 2s 4ms/step - loss: 0.0982 - accuracy: 0.9696 - val_loss: 0.0879 - val_accuracy: 0.9755\n",
            "Epoch 9/50\n",
            "375/375 [==============================] - 2s 4ms/step - loss: 0.0881 - accuracy: 0.9720 - val_loss: 0.0856 - val_accuracy: 0.9748\n",
            "Epoch 10/50\n",
            "375/375 [==============================] - 2s 4ms/step - loss: 0.0817 - accuracy: 0.9732 - val_loss: 0.0841 - val_accuracy: 0.9752\n",
            "Epoch 11/50\n",
            "375/375 [==============================] - 2s 5ms/step - loss: 0.0771 - accuracy: 0.9751 - val_loss: 0.0813 - val_accuracy: 0.9763\n",
            "Epoch 12/50\n",
            "375/375 [==============================] - 2s 5ms/step - loss: 0.0756 - accuracy: 0.9759 - val_loss: 0.0815 - val_accuracy: 0.9771\n",
            "Epoch 13/50\n",
            "375/375 [==============================] - 2s 5ms/step - loss: 0.0694 - accuracy: 0.9783 - val_loss: 0.0793 - val_accuracy: 0.9776\n",
            "Epoch 14/50\n",
            "375/375 [==============================] - 2s 5ms/step - loss: 0.0666 - accuracy: 0.9786 - val_loss: 0.0792 - val_accuracy: 0.9783\n",
            "Epoch 15/50\n",
            "375/375 [==============================] - 2s 5ms/step - loss: 0.0642 - accuracy: 0.9793 - val_loss: 0.0796 - val_accuracy: 0.9789\n",
            "Epoch 16/50\n",
            "375/375 [==============================] - 2s 5ms/step - loss: 0.0604 - accuracy: 0.9800 - val_loss: 0.0836 - val_accuracy: 0.9776\n",
            "Epoch 17/50\n",
            "375/375 [==============================] - 2s 4ms/step - loss: 0.0571 - accuracy: 0.9810 - val_loss: 0.0797 - val_accuracy: 0.9786\n",
            "Epoch 18/50\n",
            "375/375 [==============================] - 2s 4ms/step - loss: 0.0574 - accuracy: 0.9810 - val_loss: 0.0837 - val_accuracy: 0.9781\n",
            "Epoch 19/50\n",
            "375/375 [==============================] - 2s 4ms/step - loss: 0.0576 - accuracy: 0.9813 - val_loss: 0.0779 - val_accuracy: 0.9789\n",
            "Epoch 20/50\n",
            "375/375 [==============================] - 2s 4ms/step - loss: 0.0546 - accuracy: 0.9818 - val_loss: 0.0792 - val_accuracy: 0.9784\n",
            "Epoch 21/50\n",
            "375/375 [==============================] - 2s 4ms/step - loss: 0.0521 - accuracy: 0.9827 - val_loss: 0.0802 - val_accuracy: 0.9782\n",
            "Epoch 22/50\n",
            "375/375 [==============================] - 2s 5ms/step - loss: 0.0495 - accuracy: 0.9833 - val_loss: 0.0848 - val_accuracy: 0.9783\n",
            "Epoch 23/50\n",
            "375/375 [==============================] - 2s 5ms/step - loss: 0.0477 - accuracy: 0.9846 - val_loss: 0.0798 - val_accuracy: 0.9787\n",
            "Epoch 24/50\n",
            "375/375 [==============================] - 2s 5ms/step - loss: 0.0492 - accuracy: 0.9834 - val_loss: 0.0817 - val_accuracy: 0.9789\n",
            "Epoch 25/50\n",
            "375/375 [==============================] - 2s 4ms/step - loss: 0.0461 - accuracy: 0.9844 - val_loss: 0.0783 - val_accuracy: 0.9807\n",
            "Epoch 26/50\n",
            "375/375 [==============================] - 2s 4ms/step - loss: 0.0456 - accuracy: 0.9849 - val_loss: 0.0888 - val_accuracy: 0.9771\n",
            "Epoch 27/50\n",
            "375/375 [==============================] - 2s 4ms/step - loss: 0.0445 - accuracy: 0.9854 - val_loss: 0.0832 - val_accuracy: 0.9786\n",
            "Epoch 28/50\n",
            "375/375 [==============================] - 2s 4ms/step - loss: 0.0406 - accuracy: 0.9861 - val_loss: 0.0826 - val_accuracy: 0.9798\n",
            "Epoch 29/50\n",
            "375/375 [==============================] - 2s 4ms/step - loss: 0.0433 - accuracy: 0.9853 - val_loss: 0.0862 - val_accuracy: 0.9792\n",
            "Epoch 30/50\n",
            "375/375 [==============================] - 2s 4ms/step - loss: 0.0410 - accuracy: 0.9866 - val_loss: 0.0873 - val_accuracy: 0.9778\n",
            "Epoch 31/50\n",
            "375/375 [==============================] - 2s 4ms/step - loss: 0.0405 - accuracy: 0.9867 - val_loss: 0.0796 - val_accuracy: 0.9816\n",
            "Epoch 32/50\n",
            "375/375 [==============================] - 2s 4ms/step - loss: 0.0410 - accuracy: 0.9858 - val_loss: 0.0831 - val_accuracy: 0.9792\n",
            "Epoch 33/50\n",
            "375/375 [==============================] - 2s 4ms/step - loss: 0.0412 - accuracy: 0.9862 - val_loss: 0.0871 - val_accuracy: 0.9781\n",
            "Epoch 34/50\n",
            "375/375 [==============================] - 2s 4ms/step - loss: 0.0372 - accuracy: 0.9874 - val_loss: 0.0849 - val_accuracy: 0.9808\n",
            "Epoch 35/50\n",
            "375/375 [==============================] - 2s 4ms/step - loss: 0.0390 - accuracy: 0.9876 - val_loss: 0.0854 - val_accuracy: 0.9794\n",
            "Epoch 36/50\n",
            "375/375 [==============================] - 2s 4ms/step - loss: 0.0387 - accuracy: 0.9874 - val_loss: 0.0804 - val_accuracy: 0.9802\n",
            "Epoch 37/50\n",
            "375/375 [==============================] - 2s 4ms/step - loss: 0.0358 - accuracy: 0.9880 - val_loss: 0.0847 - val_accuracy: 0.9808\n",
            "Epoch 38/50\n",
            "375/375 [==============================] - 2s 4ms/step - loss: 0.0383 - accuracy: 0.9875 - val_loss: 0.0816 - val_accuracy: 0.9798\n",
            "Epoch 39/50\n",
            "375/375 [==============================] - 2s 4ms/step - loss: 0.0359 - accuracy: 0.9883 - val_loss: 0.0830 - val_accuracy: 0.9787\n",
            "Epoch 40/50\n",
            "375/375 [==============================] - 2s 4ms/step - loss: 0.0346 - accuracy: 0.9888 - val_loss: 0.0841 - val_accuracy: 0.9787\n",
            "Epoch 41/50\n",
            "375/375 [==============================] - 2s 4ms/step - loss: 0.0324 - accuracy: 0.9891 - val_loss: 0.0886 - val_accuracy: 0.9788\n",
            "Epoch 42/50\n",
            "375/375 [==============================] - 2s 4ms/step - loss: 0.0370 - accuracy: 0.9875 - val_loss: 0.0854 - val_accuracy: 0.9786\n",
            "Epoch 43/50\n",
            "375/375 [==============================] - 2s 4ms/step - loss: 0.0336 - accuracy: 0.9887 - val_loss: 0.0900 - val_accuracy: 0.9804\n",
            "Epoch 44/50\n",
            "375/375 [==============================] - 2s 4ms/step - loss: 0.0332 - accuracy: 0.9895 - val_loss: 0.0901 - val_accuracy: 0.9798\n",
            "Epoch 45/50\n",
            "375/375 [==============================] - 2s 4ms/step - loss: 0.0351 - accuracy: 0.9882 - val_loss: 0.0915 - val_accuracy: 0.9783\n",
            "Epoch 46/50\n",
            "375/375 [==============================] - 2s 4ms/step - loss: 0.0318 - accuracy: 0.9897 - val_loss: 0.0863 - val_accuracy: 0.9802\n",
            "Epoch 47/50\n",
            "375/375 [==============================] - 2s 4ms/step - loss: 0.0335 - accuracy: 0.9886 - val_loss: 0.0861 - val_accuracy: 0.9806\n",
            "Epoch 48/50\n",
            "375/375 [==============================] - 2s 4ms/step - loss: 0.0301 - accuracy: 0.9897 - val_loss: 0.0881 - val_accuracy: 0.9800\n",
            "Epoch 49/50\n",
            "375/375 [==============================] - 2s 4ms/step - loss: 0.0321 - accuracy: 0.9895 - val_loss: 0.0917 - val_accuracy: 0.9796\n",
            "Epoch 50/50\n",
            "375/375 [==============================] - 2s 4ms/step - loss: 0.0326 - accuracy: 0.9886 - val_loss: 0.0920 - val_accuracy: 0.9794\n"
          ],
          "name": "stdout"
        },
        {
          "output_type": "execute_result",
          "data": {
            "text/plain": [
              "<tensorflow.python.keras.callbacks.History at 0x7fb8b34fc5c0>"
            ]
          },
          "metadata": {
            "tags": []
          },
          "execution_count": 11
        }
      ]
    },
    {
      "cell_type": "code",
      "metadata": {
        "id": "czgLe6wlu3_v",
        "colab_type": "code",
        "colab": {
          "base_uri": "https://localhost:8080/",
          "height": 52
        },
        "outputId": "90b06ecb-3b93-4076-d82d-c9a966ae1d81"
      },
      "source": [
        "test_loss, test_acc = model.evaluate(X_test, y_test)\n",
        "print('Test accuracy:', test_acc)"
      ],
      "execution_count": 12,
      "outputs": [
        {
          "output_type": "stream",
          "text": [
            "313/313 [==============================] - 0s 1ms/step - loss: 0.0915 - accuracy: 0.9790\n",
            "Test accuracy: 0.9789999723434448\n"
          ],
          "name": "stdout"
        }
      ]
    },
    {
      "cell_type": "code",
      "metadata": {
        "id": "eCHEtPMdvmm1",
        "colab_type": "code",
        "colab": {}
      },
      "source": [
        ""
      ],
      "execution_count": 0,
      "outputs": []
    }
  ]
}