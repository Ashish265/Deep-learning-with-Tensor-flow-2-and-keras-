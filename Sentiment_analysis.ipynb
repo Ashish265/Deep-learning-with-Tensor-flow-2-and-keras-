{
  "nbformat": 4,
  "nbformat_minor": 0,
  "metadata": {
    "colab": {
      "name": "Sentiment analysis.ipynb",
      "provenance": [],
      "authorship_tag": "ABX9TyORhdvQTGScW5oDx5rcRKvU",
      "include_colab_link": true
    },
    "kernelspec": {
      "name": "python3",
      "display_name": "Python 3"
    }
  },
  "cells": [
    {
      "cell_type": "markdown",
      "metadata": {
        "id": "view-in-github",
        "colab_type": "text"
      },
      "source": [
        "<a href=\"https://colab.research.google.com/github/Ashish265/Deep-learning-with-Tensor-flow-2-and-keras-/blob/master/Sentiment_analysis.ipynb\" target=\"_parent\"><img src=\"https://colab.research.google.com/assets/colab-badge.svg\" alt=\"Open In Colab\"/></a>"
      ]
    },
    {
      "cell_type": "code",
      "metadata": {
        "id": "cQHhghddcxm3",
        "colab_type": "code",
        "colab": {}
      },
      "source": [
        "import tensorflow as tf\n",
        "from tensorflow.keras import datasets, layers, models,preprocessing\n",
        "import tensorflow_datasets as tfds"
      ],
      "execution_count": 0,
      "outputs": []
    },
    {
      "cell_type": "code",
      "metadata": {
        "id": "vPaKOCoXdSXK",
        "colab_type": "code",
        "colab": {}
      },
      "source": [
        "MAX_LEN = 200\n",
        "n_words = 10000\n",
        "dim_embedding = 256\n",
        "EPOCHS = 20\n",
        "BATCH_SIZE = 500\n"
      ],
      "execution_count": 0,
      "outputs": []
    },
    {
      "cell_type": "code",
      "metadata": {
        "id": "ze4migN9dftj",
        "colab_type": "code",
        "colab": {}
      },
      "source": [
        "def load_data():\n",
        "\n",
        "  (X_train,y_train),(X_test,y_test) = datasets.imdb.load_data(num_words = n_words)\n",
        "\n",
        "  # Pad sequences with max_len.\n",
        "\n",
        "  X_train = preprocessing.sequence.pad_sequences(X_train,maxlen=MAX_LEN)\n",
        "  X_test = preprocessing.sequence.pad_sequences(X_test,maxlen=MAX_LEN)\n",
        "\n",
        "  return (X_train,y_train),(X_test,y_test)"
      ],
      "execution_count": 0,
      "outputs": []
    },
    {
      "cell_type": "code",
      "metadata": {
        "id": "3Pb3STewebSN",
        "colab_type": "code",
        "colab": {}
      },
      "source": [
        "def build_model():\n",
        "\n",
        "  model = models.Sequential()\n",
        "\n",
        "  # Input: - eEmbedding Layer.\n",
        "  # The model will take as input an integer matrix of size (batch,\n",
        "  # input_length).\n",
        "  # The model will output dimension (input_length, dim_embedding).\n",
        "  # The largest integer in the input should be no larger\n",
        "  # than n_words (vocabulary size).\n",
        "\n",
        "  model.add(layers.Embedding(n_words,dim_embedding,input_length=MAX_LEN))\n",
        "  model.add(layers.Dropout(0.3))\n",
        "  \n",
        "  # Takes the maximum value of either feature vector from each of\n",
        "  # the n_words features.\n",
        "\n",
        "  model.add(layers.GlobalMaxPooling1D())\n",
        "  model.add(layers.Dense(128,activation='relu'))\n",
        "  model.add(layers.Dropout(0.5))\n",
        "  model.add(layers.Dense(1,activation='sigmoid'))\n",
        "\n",
        "  return model\n"
      ],
      "execution_count": 0,
      "outputs": []
    },
    {
      "cell_type": "code",
      "metadata": {
        "id": "qUC_6DmdfyxY",
        "colab_type": "code",
        "colab": {
          "base_uri": "https://localhost:8080/",
          "height": 372
        },
        "outputId": "fc6370b3-046d-4843-d485-b0c074cb475d"
      },
      "source": [
        "(X_train, y_train), (X_test, y_test) = load_data()\n",
        "model =build_model()\n",
        "model.summary()"
      ],
      "execution_count": 19,
      "outputs": [
        {
          "output_type": "stream",
          "text": [
            "Model: \"sequential_1\"\n",
            "_________________________________________________________________\n",
            "Layer (type)                 Output Shape              Param #   \n",
            "=================================================================\n",
            "embedding_1 (Embedding)      (None, 200, 256)          2560000   \n",
            "_________________________________________________________________\n",
            "dropout_1 (Dropout)          (None, 200, 256)          0         \n",
            "_________________________________________________________________\n",
            "global_max_pooling1d_1 (Glob (None, 256)               0         \n",
            "_________________________________________________________________\n",
            "dense_1 (Dense)              (None, 128)               32896     \n",
            "_________________________________________________________________\n",
            "dropout_2 (Dropout)          (None, 128)               0         \n",
            "_________________________________________________________________\n",
            "dense_2 (Dense)              (None, 1)                 129       \n",
            "=================================================================\n",
            "Total params: 2,593,025\n",
            "Trainable params: 2,593,025\n",
            "Non-trainable params: 0\n",
            "_________________________________________________________________\n"
          ],
          "name": "stdout"
        }
      ]
    },
    {
      "cell_type": "code",
      "metadata": {
        "id": "YRGdVT7if4TK",
        "colab_type": "code",
        "colab": {
          "base_uri": "https://localhost:8080/",
          "height": 727
        },
        "outputId": "5d6a2720-24ac-4261-ffe9-3a5d2d3acc15"
      },
      "source": [
        "model.compile(optimizer = \"adam\", loss = \"binary_crossentropy\",metrics = [\"accuracy\"])\n",
        "score = model.fit(X_train, y_train,\n",
        "epochs = EPOCHS,\n",
        "batch_size = BATCH_SIZE,\n",
        "validation_data = (X_test, y_test)\n",
        ")"
      ],
      "execution_count": 20,
      "outputs": [
        {
          "output_type": "stream",
          "text": [
            "Epoch 1/20\n",
            "50/50 [==============================] - 23s 469ms/step - loss: 0.6695 - accuracy: 0.6293 - val_loss: 0.6249 - val_accuracy: 0.7912\n",
            "Epoch 2/20\n",
            "50/50 [==============================] - 23s 465ms/step - loss: 0.4483 - accuracy: 0.8383 - val_loss: 0.3584 - val_accuracy: 0.8563\n",
            "Epoch 3/20\n",
            "50/50 [==============================] - 23s 463ms/step - loss: 0.2791 - accuracy: 0.8847 - val_loss: 0.3035 - val_accuracy: 0.8758\n",
            "Epoch 4/20\n",
            "50/50 [==============================] - 23s 464ms/step - loss: 0.2116 - accuracy: 0.9182 - val_loss: 0.2897 - val_accuracy: 0.8797\n",
            "Epoch 5/20\n",
            "50/50 [==============================] - 23s 465ms/step - loss: 0.1683 - accuracy: 0.9382 - val_loss: 0.2880 - val_accuracy: 0.8783\n",
            "Epoch 6/20\n",
            "50/50 [==============================] - 23s 465ms/step - loss: 0.1290 - accuracy: 0.9565 - val_loss: 0.2926 - val_accuracy: 0.8739\n",
            "Epoch 7/20\n",
            "50/50 [==============================] - 23s 464ms/step - loss: 0.0999 - accuracy: 0.9693 - val_loss: 0.3079 - val_accuracy: 0.8689\n",
            "Epoch 8/20\n",
            "50/50 [==============================] - 23s 464ms/step - loss: 0.0768 - accuracy: 0.9782 - val_loss: 0.3199 - val_accuracy: 0.8657\n",
            "Epoch 9/20\n",
            "50/50 [==============================] - 23s 466ms/step - loss: 0.0566 - accuracy: 0.9853 - val_loss: 0.3367 - val_accuracy: 0.8616\n",
            "Epoch 10/20\n",
            "50/50 [==============================] - 23s 462ms/step - loss: 0.0420 - accuracy: 0.9892 - val_loss: 0.3527 - val_accuracy: 0.8598\n",
            "Epoch 11/20\n",
            "50/50 [==============================] - 23s 464ms/step - loss: 0.0313 - accuracy: 0.9936 - val_loss: 0.3693 - val_accuracy: 0.8590\n",
            "Epoch 12/20\n",
            "50/50 [==============================] - 23s 467ms/step - loss: 0.0243 - accuracy: 0.9952 - val_loss: 0.3880 - val_accuracy: 0.8570\n",
            "Epoch 13/20\n",
            "50/50 [==============================] - 23s 466ms/step - loss: 0.0190 - accuracy: 0.9964 - val_loss: 0.4026 - val_accuracy: 0.8570\n",
            "Epoch 14/20\n",
            "50/50 [==============================] - 23s 466ms/step - loss: 0.0153 - accuracy: 0.9969 - val_loss: 0.4217 - val_accuracy: 0.8526\n",
            "Epoch 15/20\n",
            "50/50 [==============================] - 23s 465ms/step - loss: 0.0121 - accuracy: 0.9978 - val_loss: 0.4395 - val_accuracy: 0.8524\n",
            "Epoch 16/20\n",
            "50/50 [==============================] - 23s 466ms/step - loss: 0.0102 - accuracy: 0.9985 - val_loss: 0.4523 - val_accuracy: 0.8521\n",
            "Epoch 17/20\n",
            "50/50 [==============================] - 23s 468ms/step - loss: 0.0090 - accuracy: 0.9984 - val_loss: 0.4602 - val_accuracy: 0.8535\n",
            "Epoch 18/20\n",
            "50/50 [==============================] - 23s 466ms/step - loss: 0.0079 - accuracy: 0.9988 - val_loss: 0.4702 - val_accuracy: 0.8528\n",
            "Epoch 19/20\n",
            "50/50 [==============================] - 23s 467ms/step - loss: 0.0068 - accuracy: 0.9987 - val_loss: 0.4922 - val_accuracy: 0.8502\n",
            "Epoch 20/20\n",
            "50/50 [==============================] - 23s 470ms/step - loss: 0.0056 - accuracy: 0.9992 - val_loss: 0.4970 - val_accuracy: 0.8512\n"
          ],
          "name": "stdout"
        }
      ]
    },
    {
      "cell_type": "code",
      "metadata": {
        "id": "D9qxqoTbgtUk",
        "colab_type": "code",
        "colab": {
          "base_uri": "https://localhost:8080/",
          "height": 34
        },
        "outputId": "a5eb2b6c-bb3b-405d-ccfb-f5c6fb114053"
      },
      "source": [
        "score = model.evaluate(X_test, y_test, batch_size=BATCH_SIZE)"
      ],
      "execution_count": 21,
      "outputs": [
        {
          "output_type": "stream",
          "text": [
            "50/50 [==============================] - 2s 42ms/step - loss: 0.4970 - accuracy: 0.8512\n"
          ],
          "name": "stdout"
        }
      ]
    },
    {
      "cell_type": "code",
      "metadata": {
        "id": "aacGqil4gyb1",
        "colab_type": "code",
        "colab": {
          "base_uri": "https://localhost:8080/",
          "height": 70
        },
        "outputId": "8668df41-ed45-435f-bae7-171cb82d440f"
      },
      "source": [
        "print(\"\\nTest score:\", score[0])\n",
        "print('Test accuracy:', score[1])"
      ],
      "execution_count": 22,
      "outputs": [
        {
          "output_type": "stream",
          "text": [
            "\n",
            "Test score: 0.49697425961494446\n",
            "Test accuracy: 0.8511999845504761\n"
          ],
          "name": "stdout"
        }
      ]
    },
    {
      "cell_type": "code",
      "metadata": {
        "id": "_CuqQbczijgy",
        "colab_type": "code",
        "colab": {}
      },
      "source": [
        ""
      ],
      "execution_count": 0,
      "outputs": []
    }
  ]
}